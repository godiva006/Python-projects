{
  "nbformat": 4,
  "nbformat_minor": 0,
  "metadata": {
    "colab": {
      "provenance": []
    },
    "kernelspec": {
      "name": "python3",
      "display_name": "Python 3"
    },
    "language_info": {
      "name": "python"
    }
  },
  "cells": [
    {
      "cell_type": "code",
      "execution_count": null,
      "metadata": {
        "id": "dep0VAkrWXUe"
      },
      "outputs": [],
      "source": [
        "def determine_winner(user_choice, computer_choice):\n",
        "    global games_won\n",
        "\n",
        "    if user_choice == computer_choice:\n",
        "        return \"It's a tie!\"\n",
        "\n",
        "    if (user_choice == 'rock' and computer_choice == 'scissors') or \\\n",
        "       (user_choice == 'paper' and computer_choice == 'rock') or \\\n",
        "       (user_choice == 'scissors' and computer_choice == 'paper'):\n",
        "        games_won += 1\n",
        "        return \"You win!\"\n",
        "    else:\n",
        "        return \"Computer wins!\"\n",
        "\n",
        "def play_game():\n",
        "  global games_played\n",
        "  games_played += 1\n",
        "\n",
        "  user_choice = get_user_choice()\n",
        "  computer_choice = get_computer_choice()\n",
        "\n",
        "\n",
        "  print(f\"Computer chose: {computer_choice}\")\n",
        "  result = determine_winner(user_choice, computer_choice)  # Fixed indentation\n",
        "  print(result)\n",
        "\n",
        "\n",
        "  def display_score():\n",
        "\n",
        "     print(f\"Games played: {games_played}\")\n",
        "     print(f\"Games won by you: {games_won}\")\n",
        "\n",
        "  def main():\n",
        "   while True:\n",
        "    play_game()\n",
        "    display_score()\n",
        "\n",
        "    play_again = input(\"Do you want to play again (yes/no):\").lower()\n",
        "    if play_again != 'yes':\n",
        "      print(\"Thanks for playing!\")\n",
        "      break\n",
        "\n",
        "   if __name__ == \"__main__\":\n",
        "     main()"
      ]
    }
  ]
}