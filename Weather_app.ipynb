{
  "nbformat": 4,
  "nbformat_minor": 0,
  "metadata": {
    "colab": {
      "provenance": []
    },
    "kernelspec": {
      "name": "python3",
      "display_name": "Python 3"
    },
    "language_info": {
      "name": "python"
    }
  },
  "cells": [
    {
      "cell_type": "code",
      "execution_count": null,
      "metadata": {
        "id": "i3K8VGksXFhw"
      },
      "outputs": [],
      "source": [
        "import requests\n",
        "import pandas as pd\n",
        "from datetime import datetime\n",
        "\n",
        "api_key = \"70c26d82c2c368d21432199a11f1b6de\"\n",
        "base_url = \"http://api.openweathermap.org/data/2.5/weather\"\n",
        "\n",
        "\n",
        "def weather(city):\n",
        "\n",
        "    params = {\n",
        "        'q': city,\n",
        "        'appid': api_key,\n",
        "        'units': 'metric'\n",
        "    }\n",
        "\n",
        "    try:\n",
        "\n",
        "        res = requests.get(base_url, params=params)\n",
        "        res.raise_for_status()\n",
        "        data = res.json()\n",
        "        if data.get(\"cod\") != 200:\n",
        "            print(f\"Error: Unable to retrieve weather data for {city}. Error code: {data.get('cod')}\")\n",
        "            return None\n",
        "\n",
        "        temperature = data['main']['temp']\n",
        "        weather_desc = data['weather'][0]['description']\n",
        "        humidity = data['main']['humidity']\n",
        "\n",
        "        return {\n",
        "            'city': city,\n",
        "            'temperature': temperature,\n",
        "            'weather_description': weather_desc,\n",
        "            'humidity': humidity,\n",
        "            'timestamp': datetime.now()\n",
        "        }\n",
        "\n",
        "    except requests.exceptions.HTTPError as e:\n",
        "        print(f\"HTTP Error: {e}\")\n",
        "    except requests.exceptions.RequestException as e:\n",
        "        print(f\"Error with the request: {e}\")\n",
        "    except Exception as e:\n",
        "        print(f\"An error occurred: {e}\")\n",
        "\n",
        "    return None\n",
        "\n",
        "city = input(\"Enter the city name: \")\n",
        "weather_data = weather(city)\n",
        "\n",
        "if weather_data:\n",
        "    print(f\"Weather in {weather_data['city']}:\")\n",
        "    print(f\"Temperature: {weather_data['temperature']}°C\")\n",
        "    print(f\"Weather: {weather_data['weather_description'].capitalize()}\")\n",
        "    print(f\"Humidity: {weather_data['humidity']}%\")\n",
        "    print(f\"Timestamp: {weather_data['timestamp']}\")\n",
        "else:\n",
        "    print(\"Unable to retrieve weather data.\")\n"
      ]
    }
  ]
}